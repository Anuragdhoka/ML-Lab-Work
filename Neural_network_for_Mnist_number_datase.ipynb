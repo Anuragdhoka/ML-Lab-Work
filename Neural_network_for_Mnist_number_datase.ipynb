{
  "nbformat": 4,
  "nbformat_minor": 0,
  "metadata": {
    "kernelspec": {
      "name": "python3",
      "display_name": "Python 3"
    },
    "toc": {
      "nav_menu": {},
      "number_sections": true,
      "sideBar": true,
      "skip_h1_title": false,
      "toc_cell": true,
      "toc_position": {},
      "toc_section_display": "block",
      "toc_window_display": false
    },
    "colab": {
      "name": "Aman Sharma Neural_network_for_Mnist_number_dataset.ipynb",
      "provenance": [],
      "collapsed_sections": []
    },
    "accelerator": "GPU"
  },
  "cells": [
    {
      "cell_type": "markdown",
      "metadata": {
        "id": "view-in-github"
      },
      "source": [
        "<a href=\"https://colab.research.google.com/github/Mustafalw02/Machine-Learning-Lab-Work/blob/master/Neural_network_for_Mnist_number_dataset.ipynb\" target=\"_parent\"><img src=\"https://colab.research.google.com/assets/colab-badge.svg\" alt=\"Open In Colab\"/></a>"
      ]
    },
    {
      "cell_type": "markdown",
      "metadata": {
        "toc": true,
        "id": "zQvT7bhRzp4e"
      },
      "source": [
        "<h1>Table of Contents<span class=\"tocSkip\"></span></h1>\n",
        "<div class=\"toc\" style=\"margin-top: 1em;\"><ul class=\"toc-item\"><li><span><a href=\"#Loading-the-MNIST-dataset-in-Keras\" data-toc-modified-id=\"Loading-the-MNIST-dataset-in-Keras-1\"><span class=\"toc-item-num\">1&nbsp;&nbsp;</span>Loading the MNIST dataset in Keras</a></span></li><li><span><a href=\"#The-network-architecture\" data-toc-modified-id=\"The-network-architecture-2\"><span class=\"toc-item-num\">2&nbsp;&nbsp;</span>The network architecture</a></span></li><li><span><a href=\"#The-compilation-step\" data-toc-modified-id=\"The-compilation-step-3\"><span class=\"toc-item-num\">3&nbsp;&nbsp;</span>The compilation step</a></span></li><li><span><a href=\"#Preparing-the-image-data\" data-toc-modified-id=\"Preparing-the-image-data-4\"><span class=\"toc-item-num\">4&nbsp;&nbsp;</span>Preparing the image data</a></span></li><li><span><a href=\"#Preparing-the-labels\" data-toc-modified-id=\"Preparing-the-labels-5\"><span class=\"toc-item-num\">5&nbsp;&nbsp;</span>Preparing the labels</a></span></li><li><span><a href=\"#Training-and-Testing\" data-toc-modified-id=\"Training-and-Testing-6\"><span class=\"toc-item-num\">6&nbsp;&nbsp;</span>Training and Testing</a></span></li></ul></div>"
      ]
    },
    {
      "cell_type": "markdown",
      "metadata": {
        "id": "GSee4zKUzp4i"
      },
      "source": [
        "# Loading the MNIST dataset in Keras"
      ]
    },
    {
      "cell_type": "code",
      "metadata": {
        "id": "6a8IveFHzp4l"
      },
      "source": [
        "from keras.datasets import mnist"
      ],
      "execution_count": 1,
      "outputs": []
    },
    {
      "cell_type": "code",
      "metadata": {
        "id": "LQPmnZ8xzp4v",
        "colab": {
          "base_uri": "https://localhost:8080/"
        },
        "outputId": "4214e96e-d730-4ad9-a742-041a5b175d05"
      },
      "source": [
        "(train_images, train_labels), (test_images, test_labels) = mnist.load_data()"
      ],
      "execution_count": 2,
      "outputs": [
        {
          "output_type": "stream",
          "name": "stdout",
          "text": [
            "Downloading data from https://storage.googleapis.com/tensorflow/tf-keras-datasets/mnist.npz\n",
            "11493376/11490434 [==============================] - 0s 0us/step\n",
            "11501568/11490434 [==============================] - 0s 0us/step\n"
          ]
        }
      ]
    },
    {
      "cell_type": "markdown",
      "metadata": {
        "id": "mnZfS9HYzp4z"
      },
      "source": [
        "- The images are encoded as Numpy arrays, and the labels are an array of digits, ranging from 0 to 9."
      ]
    },
    {
      "cell_type": "code",
      "metadata": {
        "id": "VFdoffSmzp41",
        "outputId": "91e98d2c-db1f-40e1-e8a0-e1c67df0aceb",
        "colab": {
          "base_uri": "https://localhost:8080/"
        }
      },
      "source": [
        "train_images.shape\n"
      ],
      "execution_count": 3,
      "outputs": [
        {
          "output_type": "execute_result",
          "data": {
            "text/plain": [
              "(60000, 28, 28)"
            ]
          },
          "metadata": {},
          "execution_count": 3
        }
      ]
    },
    {
      "cell_type": "code",
      "metadata": {
        "id": "tD65nC-vzp45",
        "outputId": "31d62af6-23fc-4c6b-c34c-d807955d7e29",
        "colab": {
          "base_uri": "https://localhost:8080/"
        }
      },
      "source": [
        "len(train_labels)"
      ],
      "execution_count": 4,
      "outputs": [
        {
          "output_type": "execute_result",
          "data": {
            "text/plain": [
              "60000"
            ]
          },
          "metadata": {},
          "execution_count": 4
        }
      ]
    },
    {
      "cell_type": "code",
      "metadata": {
        "id": "IX9LpWNazp4_",
        "outputId": "5421a027-37ba-4e2b-ba41-12e404b77367",
        "colab": {
          "base_uri": "https://localhost:8080/"
        }
      },
      "source": [
        "train_labels"
      ],
      "execution_count": 5,
      "outputs": [
        {
          "output_type": "execute_result",
          "data": {
            "text/plain": [
              "array([5, 0, 4, ..., 5, 6, 8], dtype=uint8)"
            ]
          },
          "metadata": {},
          "execution_count": 5
        }
      ]
    },
    {
      "cell_type": "code",
      "metadata": {
        "id": "SG0L5p4Dzp5D",
        "outputId": "9fcc21d2-7faf-46b9-cba2-953ed5691cb3",
        "colab": {
          "base_uri": "https://localhost:8080/"
        }
      },
      "source": [
        "test_images.shape"
      ],
      "execution_count": 6,
      "outputs": [
        {
          "output_type": "execute_result",
          "data": {
            "text/plain": [
              "(10000, 28, 28)"
            ]
          },
          "metadata": {},
          "execution_count": 6
        }
      ]
    },
    {
      "cell_type": "code",
      "metadata": {
        "id": "MimOH_Xnzp5I",
        "outputId": "16f3823a-0be9-4550-eccc-5630be85b1e8",
        "colab": {
          "base_uri": "https://localhost:8080/"
        }
      },
      "source": [
        "len(test_labels)"
      ],
      "execution_count": 7,
      "outputs": [
        {
          "output_type": "execute_result",
          "data": {
            "text/plain": [
              "10000"
            ]
          },
          "metadata": {},
          "execution_count": 7
        }
      ]
    },
    {
      "cell_type": "code",
      "metadata": {
        "id": "8EHR0v0Bzp5M",
        "outputId": "33f4674c-dc0d-451f-a1f9-d4d2389f7eb1",
        "colab": {
          "base_uri": "https://localhost:8080/"
        }
      },
      "source": [
        "test_labels"
      ],
      "execution_count": 8,
      "outputs": [
        {
          "output_type": "execute_result",
          "data": {
            "text/plain": [
              "array([7, 2, 1, ..., 4, 5, 6], dtype=uint8)"
            ]
          },
          "metadata": {},
          "execution_count": 8
        }
      ]
    },
    {
      "cell_type": "markdown",
      "metadata": {
        "id": "s0Tp6nDRzp5R"
      },
      "source": [
        "Let's build the network"
      ]
    },
    {
      "cell_type": "markdown",
      "metadata": {
        "id": "WxbJXg2Czp5T"
      },
      "source": [
        "# The network architecture"
      ]
    },
    {
      "cell_type": "markdown",
      "metadata": {
        "id": "kGCxNrDdzp5U"
      },
      "source": [
        "- The core building block of neural networks is the **layer**, a data-processing module that you can think of as a filter for data.\n",
        "    - Some data goes in, and it comes out in a more useful form.\n",
        "    - Layers extract **representations** (hopefully, meaningful for the data problem at hand) out of the data fed into them.\n",
        "    \n",
        "- Most of deep learning consists of chaining together simple layers that will implement a form of progressive **data distillation**.\n",
        "- A deep learning model is like a sieve for data-processing, made of a succession of increasingly refined data filters--**the layers**."
      ]
    },
    {
      "cell_type": "code",
      "metadata": {
        "id": "uyUqGjPTzp5V"
      },
      "source": [
        "from keras import models\n",
        "from keras import layers"
      ],
      "execution_count": 9,
      "outputs": []
    },
    {
      "cell_type": "code",
      "metadata": {
        "id": "NEVk0S9_zp5a"
      },
      "source": [
        "network = models.Sequential()\n",
        "# Dense(512) is a fully-connected layer with 512 hidden units.\n",
        "# in the first layer, you must specify the expected input data shape :\n",
        "# here, 28 X 28=784 -dimensional vectors.\n",
        "network.add(layers.Dense(32, activation='relu', input_shape=(28 * 28, )))\n",
        "network.add(layers.Dense(10, activation='tanh'))\n",
        "network.add(layers.Dense(10, activation='softmax'))"
      ],
      "execution_count": 10,
      "outputs": []
    },
    {
      "cell_type": "markdown",
      "metadata": {
        "id": "Af2c2tvKzp5f"
      },
      "source": [
        "- Our network consists of a sequence of two *Dense* layers, which are densely connected (also called *fully connected*) neural layers.\n",
        "- The second (and last) layer is a **10-way** *softmax* layer, which means it will return an array of **10** probability scores. Each score will be the probability that the current digit image belongs to one of our 10 digit classes. "
      ]
    },
    {
      "cell_type": "markdown",
      "metadata": {
        "id": "NHbqJ-rWzp5g"
      },
      "source": [
        "# The compilation step"
      ]
    },
    {
      "cell_type": "markdown",
      "metadata": {
        "id": "1w0ne5wYzp5h"
      },
      "source": [
        "- To make the network ready for training, we need to pick three more things, as part of the **compilation** step:\n",
        " - **A loss function**-- How the network will be able to measure its performance on the training data, and thus how it will be able to steer itself in the right direction.\n",
        " - **An optimizer**--The mechanism through which the network will update itself based on the data it sees and its loss function.\n",
        " - **Metrics to monitor during training and testing**--Here, we will only care about accuracy (the fraction of the images that were correctly classified)."
      ]
    },
    {
      "cell_type": "code",
      "metadata": {
        "id": "uvSO-q9Ozp5i"
      },
      "source": [
        "network.compile(optimizer='adam',\n",
        "                loss='categorical_crossentropy',\n",
        "                metrics=['accuracy'])\n",
        "    "
      ],
      "execution_count": 11,
      "outputs": []
    },
    {
      "cell_type": "markdown",
      "metadata": {
        "id": "fLHJqTLXzp5o"
      },
      "source": [
        "# Preparing the image data"
      ]
    },
    {
      "cell_type": "markdown",
      "metadata": {
        "id": "ajWKVl1-zp5q"
      },
      "source": [
        "Before training, we will preprocess the data by reshaping it into the shape the network expects and scaling it so that all values are in the $[0-1]$ interval."
      ]
    },
    {
      "cell_type": "code",
      "metadata": {
        "id": "4vMdz75Wzp5s"
      },
      "source": [
        "train_images = train_images.reshape((60000, 28 * 28))\n",
        "train_images = train_images.astype('float32') / 255."
      ],
      "execution_count": 12,
      "outputs": []
    },
    {
      "cell_type": "code",
      "metadata": {
        "id": "4icW7vDgzp5w"
      },
      "source": [
        "test_images = test_images.reshape((10000, 28 * 28))\n",
        "test_images = test_images.astype('float32') / 255."
      ],
      "execution_count": 13,
      "outputs": []
    },
    {
      "cell_type": "markdown",
      "metadata": {
        "id": "0SHD8Vvhzp5z"
      },
      "source": [
        "# Preparing the labels"
      ]
    },
    {
      "cell_type": "markdown",
      "metadata": {
        "id": "JA1YmuF1zp51"
      },
      "source": [
        "We also need to categorically encode the labels."
      ]
    },
    {
      "cell_type": "code",
      "metadata": {
        "id": "Bh42ABtgzp58"
      },
      "source": [
        "from tensorflow.keras.utils import to_categorical"
      ],
      "execution_count": 14,
      "outputs": []
    },
    {
      "cell_type": "code",
      "metadata": {
        "id": "3eCqlapJzp6A",
        "outputId": "cbdeefcd-0a71-4229-8c7e-cd979e69cd9c",
        "colab": {
          "base_uri": "https://localhost:8080/"
        }
      },
      "source": [
        "train_labels = to_categorical(train_labels)\n",
        "train_labels"
      ],
      "execution_count": 15,
      "outputs": [
        {
          "output_type": "execute_result",
          "data": {
            "text/plain": [
              "array([[0., 0., 0., ..., 0., 0., 0.],\n",
              "       [1., 0., 0., ..., 0., 0., 0.],\n",
              "       [0., 0., 0., ..., 0., 0., 0.],\n",
              "       ...,\n",
              "       [0., 0., 0., ..., 0., 0., 0.],\n",
              "       [0., 0., 0., ..., 0., 0., 0.],\n",
              "       [0., 0., 0., ..., 0., 1., 0.]], dtype=float32)"
            ]
          },
          "metadata": {},
          "execution_count": 15
        }
      ]
    },
    {
      "cell_type": "code",
      "metadata": {
        "id": "wWXDQKNBzp6E",
        "colab": {
          "base_uri": "https://localhost:8080/"
        },
        "outputId": "2e6fad02-e85d-4368-fa73-4930af6d9b88"
      },
      "source": [
        "test_labels = to_categorical(test_labels)\n",
        "test_labels"
      ],
      "execution_count": 16,
      "outputs": [
        {
          "output_type": "execute_result",
          "data": {
            "text/plain": [
              "array([[0., 0., 0., ..., 1., 0., 0.],\n",
              "       [0., 0., 1., ..., 0., 0., 0.],\n",
              "       [0., 1., 0., ..., 0., 0., 0.],\n",
              "       ...,\n",
              "       [0., 0., 0., ..., 0., 0., 0.],\n",
              "       [0., 0., 0., ..., 0., 0., 0.],\n",
              "       [0., 0., 0., ..., 0., 0., 0.]], dtype=float32)"
            ]
          },
          "metadata": {},
          "execution_count": 16
        }
      ]
    },
    {
      "cell_type": "markdown",
      "metadata": {
        "id": "csJ7yQVxzp6I"
      },
      "source": [
        "# Training and Testing"
      ]
    },
    {
      "cell_type": "markdown",
      "metadata": {
        "id": "P-KLV-VIzp6K"
      },
      "source": [
        "We are now ready to train the network, which in Keras is done via a call to the network's fit method--we fit the model to its training data:"
      ]
    },
    {
      "cell_type": "code",
      "metadata": {
        "id": "sGWa7zXYzp6O",
        "outputId": "fb1ffb51-804b-479b-b517-fcb8c7a15ab6",
        "colab": {
          "base_uri": "https://localhost:8080/"
        }
      },
      "source": [
        "network.fit(train_images, train_labels, epochs=21, batch_size=64)"
      ],
      "execution_count": 18,
      "outputs": [
        {
          "output_type": "stream",
          "name": "stdout",
          "text": [
            "Epoch 1/21\n",
            "938/938 [==============================] - 4s 4ms/step - loss: 0.0363 - accuracy: 0.9886\n",
            "Epoch 2/21\n",
            "938/938 [==============================] - 4s 4ms/step - loss: 0.0341 - accuracy: 0.9893\n",
            "Epoch 3/21\n",
            "938/938 [==============================] - 4s 4ms/step - loss: 0.0319 - accuracy: 0.9899\n",
            "Epoch 4/21\n",
            "938/938 [==============================] - 4s 4ms/step - loss: 0.0299 - accuracy: 0.9908\n",
            "Epoch 5/21\n",
            "938/938 [==============================] - 4s 4ms/step - loss: 0.0284 - accuracy: 0.9913\n",
            "Epoch 6/21\n",
            "938/938 [==============================] - 4s 4ms/step - loss: 0.0268 - accuracy: 0.9919\n",
            "Epoch 7/21\n",
            "938/938 [==============================] - 4s 4ms/step - loss: 0.0261 - accuracy: 0.9923\n",
            "Epoch 8/21\n",
            "938/938 [==============================] - 4s 4ms/step - loss: 0.0265 - accuracy: 0.9918\n",
            "Epoch 9/21\n",
            "938/938 [==============================] - 4s 4ms/step - loss: 0.0246 - accuracy: 0.9923\n",
            "Epoch 10/21\n",
            "938/938 [==============================] - 4s 4ms/step - loss: 0.0239 - accuracy: 0.9928\n",
            "Epoch 11/21\n",
            "938/938 [==============================] - 4s 4ms/step - loss: 0.0216 - accuracy: 0.9937\n",
            "Epoch 12/21\n",
            "938/938 [==============================] - 4s 4ms/step - loss: 0.0215 - accuracy: 0.9932\n",
            "Epoch 13/21\n",
            "938/938 [==============================] - 4s 4ms/step - loss: 0.0209 - accuracy: 0.9936\n",
            "Epoch 14/21\n",
            "938/938 [==============================] - 4s 4ms/step - loss: 0.0190 - accuracy: 0.9944\n",
            "Epoch 15/21\n",
            "938/938 [==============================] - 4s 4ms/step - loss: 0.0205 - accuracy: 0.9933\n",
            "Epoch 16/21\n",
            "938/938 [==============================] - 4s 4ms/step - loss: 0.0183 - accuracy: 0.9949\n",
            "Epoch 17/21\n",
            "938/938 [==============================] - 4s 4ms/step - loss: 0.0185 - accuracy: 0.9944\n",
            "Epoch 18/21\n",
            "938/938 [==============================] - 4s 4ms/step - loss: 0.0162 - accuracy: 0.9957\n",
            "Epoch 19/21\n",
            "938/938 [==============================] - 4s 4ms/step - loss: 0.0175 - accuracy: 0.9951\n",
            "Epoch 20/21\n",
            "938/938 [==============================] - 4s 4ms/step - loss: 0.0180 - accuracy: 0.9947\n",
            "Epoch 21/21\n",
            "938/938 [==============================] - 4s 4ms/step - loss: 0.0160 - accuracy: 0.9957\n"
          ]
        },
        {
          "output_type": "execute_result",
          "data": {
            "text/plain": [
              "<keras.callbacks.History at 0x7f6bf7a8f390>"
            ]
          },
          "metadata": {},
          "execution_count": 18
        }
      ]
    },
    {
      "cell_type": "markdown",
      "metadata": {
        "id": "heVasO26zp6V"
      },
      "source": [
        "- Two quantities are displayed during training:\n",
        "    - The loss of the network over the training data\n",
        "    - The accuracy of the network over the training data\n",
        "    \n",
        "- We quickly reach an accuracy of **$0.9886 (98.86\\%)$** on the training data."
      ]
    },
    {
      "cell_type": "markdown",
      "metadata": {
        "id": "0eDaNGAYzp6X"
      },
      "source": [
        "- Now let's check that the model performs well on the test set, too:"
      ]
    },
    {
      "cell_type": "code",
      "metadata": {
        "id": "2-UhmyTWzp6Y",
        "outputId": "28c532aa-346e-4048-f540-4f3eabe0bd5f",
        "colab": {
          "base_uri": "https://localhost:8080/"
        }
      },
      "source": [
        "test_loss, test_acc = network.evaluate(test_images, test_labels)"
      ],
      "execution_count": null,
      "outputs": [
        {
          "output_type": "stream",
          "name": "stdout",
          "text": [
            "313/313 [==============================] - 1s 3ms/step - loss: 0.1175 - accuracy: 0.9672\n"
          ]
        }
      ]
    },
    {
      "cell_type": "code",
      "metadata": {
        "id": "omz-cZXLzp6d",
        "outputId": "a4c75e73-8b8d-4de1-941c-17a5beac9ef1",
        "colab": {
          "base_uri": "https://localhost:8080/"
        }
      },
      "source": [
        "print('Test Accuracy: {:.5f} '.format(test_acc))"
      ],
      "execution_count": null,
      "outputs": [
        {
          "output_type": "stream",
          "name": "stdout",
          "text": [
            "Test Accuracy: 0.96720 \n"
          ]
        }
      ]
    },
    {
      "cell_type": "code",
      "metadata": {
        "id": "cbIp64KFzp6g",
        "outputId": "aea196b7-2ed2-4e41-8d33-953b91652f59",
        "colab": {
          "base_uri": "https://localhost:8080/"
        }
      },
      "source": [
        "test_acc"
      ],
      "execution_count": null,
      "outputs": [
        {
          "output_type": "execute_result",
          "data": {
            "text/plain": [
              "0.967199981212616"
            ]
          },
          "metadata": {},
          "execution_count": 20
        }
      ]
    },
    {
      "cell_type": "markdown",
      "metadata": {
        "id": "yi5jDr-0zp6k"
      },
      "source": [
        "- The test-set accuracy turns out to be $97.780\\%$--that is quite a bit lower than the training set accuracy. This gap between training and test accuracy is an example of **overfitting**:the fact that the ML models tend to perform worse on new data than on their training data."
      ]
    },
    {
      "cell_type": "code",
      "metadata": {
        "id": "JOu1IQW6zp6l",
        "outputId": "d289ed5a-ade6-4f99-b998-b26085a809f1",
        "colab": {
          "base_uri": "https://localhost:8080/",
          "height": 369
        }
      },
      "source": [
        "from tensorflow.keras.utils import plot_model\n",
        "plot_model(network, to_file='model.png')"
      ],
      "execution_count": null,
      "outputs": [
        {
          "output_type": "execute_result",
          "data": {
            "text/plain": [
              "<IPython.core.display.Image object>"
            ],
            "image/png": "[encoded data removed]"
          },
          "metadata": {},
          "execution_count": 21
        }
      ]
    },
    {
      "cell_type": "code",
      "metadata": {
        "id": "LVvUxpAkOQuz",
        "outputId": "b1546e50-b496-4a85-e31e-d82828c57624",
        "colab": {
          "base_uri": "https://localhost:8080/",
          "height": 1000
        }
      },
      "source": [
        "import matplotlib.pyplot as plt\n",
        "history =network.fit(train_images, train_labels, validation_split=0.33,epochs=20, batch_size=67)\n",
        "history_dict = history.history\n",
        "print(history_dict.keys())\n",
        "plt.plot(history.history['accuracy'])\n",
        "plt.plot(history.history['val_accuracy'])\n",
        "plt.title('Model accuracy')\n",
        "plt.ylabel('Accuracy')\n",
        "plt.xlabel('Epoch')\n",
        "plt.legend(['Train', 'Test'], loc='upper left')\n",
        "plt.show()\n",
        "\n",
        "# Plot training & validation loss values\n",
        "plt.plot(history.history['loss'])\n",
        "plt.plot(history.history['val_loss'])\n",
        "plt.title('Model loss')\n",
        "plt.ylabel('Loss')\n",
        "plt.xlabel('Epoch')\n",
        "plt.legend(['Train', 'Test'], loc='upper left')\n",
        "plt.show()"
      ],
      "execution_count": 19,
      "outputs": [
        {
          "output_type": "stream",
          "name": "stdout",
          "text": [
            "Epoch 1/20\n",
            "600/600 [==============================] - 6s 10ms/step - loss: 0.0143 - accuracy: 0.9960 - val_loss: 0.0149 - val_accuracy: 0.9958\n",
            "Epoch 2/20\n",
            "600/600 [==============================] - 5s 9ms/step - loss: 0.0106 - accuracy: 0.9977 - val_loss: 0.0137 - val_accuracy: 0.9960\n",
            "Epoch 3/20\n",
            "600/600 [==============================] - 4s 6ms/step - loss: 0.0101 - accuracy: 0.9979 - val_loss: 0.0192 - val_accuracy: 0.9939\n",
            "Epoch 4/20\n",
            "600/600 [==============================] - 3s 5ms/step - loss: 0.0104 - accuracy: 0.9975 - val_loss: 0.0186 - val_accuracy: 0.9940\n",
            "Epoch 5/20\n",
            "600/600 [==============================] - 4s 6ms/step - loss: 0.0122 - accuracy: 0.9969 - val_loss: 0.0327 - val_accuracy: 0.9891\n",
            "Epoch 6/20\n",
            "600/600 [==============================] - 3s 5ms/step - loss: 0.0146 - accuracy: 0.9955 - val_loss: 0.0328 - val_accuracy: 0.9877\n",
            "Epoch 7/20\n",
            "600/600 [==============================] - 4s 6ms/step - loss: 0.0101 - accuracy: 0.9976 - val_loss: 0.0264 - val_accuracy: 0.9913\n",
            "Epoch 8/20\n",
            "600/600 [==============================] - 4s 6ms/step - loss: 0.0082 - accuracy: 0.9981 - val_loss: 0.0305 - val_accuracy: 0.9900\n",
            "Epoch 9/20\n",
            "600/600 [==============================] - 4s 6ms/step - loss: 0.0089 - accuracy: 0.9979 - val_loss: 0.0365 - val_accuracy: 0.9878\n",
            "Epoch 10/20\n",
            "600/600 [==============================] - 3s 5ms/step - loss: 0.0088 - accuracy: 0.9978 - val_loss: 0.0653 - val_accuracy: 0.9805\n",
            "Epoch 11/20\n",
            "600/600 [==============================] - 3s 5ms/step - loss: 0.0152 - accuracy: 0.9953 - val_loss: 0.0398 - val_accuracy: 0.9868\n",
            "Epoch 12/20\n",
            "600/600 [==============================] - 3s 5ms/step - loss: 0.0083 - accuracy: 0.9981 - val_loss: 0.0333 - val_accuracy: 0.9890\n",
            "Epoch 13/20\n",
            "600/600 [==============================] - 4s 6ms/step - loss: 0.0048 - accuracy: 0.9995 - val_loss: 0.0298 - val_accuracy: 0.9901\n",
            "Epoch 14/20\n",
            "600/600 [==============================] - 4s 6ms/step - loss: 0.0035 - accuracy: 0.9997 - val_loss: 0.0329 - val_accuracy: 0.9891\n",
            "Epoch 15/20\n",
            "600/600 [==============================] - 3s 5ms/step - loss: 0.0174 - accuracy: 0.9948 - val_loss: 0.0525 - val_accuracy: 0.9845\n",
            "Epoch 16/20\n",
            "600/600 [==============================] - 3s 5ms/step - loss: 0.0081 - accuracy: 0.9976 - val_loss: 0.0518 - val_accuracy: 0.9839\n",
            "Epoch 17/20\n",
            "600/600 [==============================] - 3s 5ms/step - loss: 0.0045 - accuracy: 0.9993 - val_loss: 0.0401 - val_accuracy: 0.9868\n",
            "Epoch 18/20\n",
            "600/600 [==============================] - 4s 6ms/step - loss: 0.0044 - accuracy: 0.9992 - val_loss: 0.0495 - val_accuracy: 0.9846\n",
            "Epoch 19/20\n",
            "600/600 [==============================] - 4s 6ms/step - loss: 0.0149 - accuracy: 0.9955 - val_loss: 0.0513 - val_accuracy: 0.9837\n",
            "Epoch 20/20\n",
            "600/600 [==============================] - 4s 6ms/step - loss: 0.0073 - accuracy: 0.9982 - val_loss: 0.0516 - val_accuracy: 0.9855\n",
            "dict_keys(['loss', 'accuracy', 'val_loss', 'val_accuracy'])\n"
          ]
        },
        {
          "output_type": "display_data",
          "data": {
            "text/plain": [
              "<Figure size 432x288 with 1 Axes>"
            ],
            "image/png": "[encoded data removed]"
          },
          "metadata": {
            "needs_background": "light"
          }
        },
        {
          "output_type": "display_data",
          "data": {
            "text/plain": [
              "<Figure size 432x288 with 1 Axes>"
            ],
            "image/png": "[encoded data removed]"
          },
          "metadata": {
            "needs_background": "light"
          }
        }
      ]
    }
  ]
}