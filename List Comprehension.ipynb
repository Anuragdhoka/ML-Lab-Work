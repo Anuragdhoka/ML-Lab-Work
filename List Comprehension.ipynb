{
  "cells": [
    {
      "cell_type": "code",
      "execution_count": null,
      "metadata": {
        "colab": {
          "base_uri": "https://localhost:8080/"
        },
        "id": "WERW8msd8jKZ",
        "outputId": "b4c2f8d0-b2dc-4b17-ebfb-a34279c5f0ea"
      },
      "outputs": [
        {
          "data": {
            "text/plain": [
              "[6, 8, 12, 34]"
            ]
          },
          "execution_count": 3,
          "metadata": {},
          "output_type": "execute_result"
        }
      ],
      "source": [
        "# all the number divisible by 2\n",
        "list = [5,6,7,8,9,12,33,34]\n",
        "[i for i in list if i%2==0]"
      ]
    },
    {
      "cell_type": "code",
      "execution_count": null,
      "metadata": {
        "colab": {
          "base_uri": "https://localhost:8080/"
        },
        "id": "g6FSiUXC-ey0",
        "outputId": "705f09f1-a5d1-4406-986f-53c6a2c417e0"
      },
      "outputs": [
        {
          "name": "stdout",
          "output_type": "stream",
          "text": [
            "[50, 51, 52, 53, 54, 55, 56, 57, 58, 59, 60, 61, 62, 63, 64, 65, 66, 67, 68, 69, 70, 71, 72, 73, 74, 75, 76, 77, 78, 79, 80, 81, 82, 83, 84, 85, 86, 87, 88, 89, 90, 91, 92, 93, 94, 95, 96, 97, 98, 99, 100, 101, 102, 103, 104, 105, 106, 107, 108, 109, 110, 111, 112, 113, 114, 115, 116, 117, 118, 119, 120]\n"
          ]
        }
      ],
      "source": [
        "#  print all the no. greater than = 50 and less = 120 for some range = 1000\n",
        "list = [i for i in range (1,1001) if i>=50 and i<=120]\n",
        "print(list)"
      ]
    },
    {
      "cell_type": "code",
      "execution_count": null,
      "metadata": {
        "colab": {
          "base_uri": "https://localhost:8080/"
        },
        "id": "1zy9riQ9_sHU",
        "outputId": "cb265079-7bab-49a8-c37e-4e222d0bd66c"
      },
      "outputs": [
        {
          "name": "stdout",
          "output_type": "stream",
          "text": [
            "[5, 10, 15, 20, 25, 30, 35, 40, 45, 50, 55, 60, 65, 70, 75, 80, 85, 90, 95, 100, 105, 110, 115, 120, 125, 130, 135, 140, 145, 150]\n"
          ]
        }
      ],
      "source": [
        "# print the table of five from 1 to 30 \n",
        "list=[5*i for i in range (1,31)]\n",
        "print(list)"
      ]
    },
    {
      "cell_type": "code",
      "execution_count": null,
      "metadata": {
        "colab": {
          "base_uri": "https://localhost:8080/"
        },
        "id": "ms7rYfou_0FD",
        "outputId": "d6527e8f-cd20-411c-f00f-5ec605746918"
      },
      "outputs": [
        {
          "name": "stdout",
          "output_type": "stream",
          "text": [
            "7\n"
          ]
        }
      ],
      "source": [
        "# count all th vowel in sent i love csit department\n",
        "string  = \"i love csit department\"\n",
        "list = [i for i in string if i in ['a','e','i','o','u'] ]\n",
        "print (len(list))\n"
      ]
    },
    {
      "cell_type": "code",
      "execution_count": null,
      "metadata": {
        "colab": {
          "base_uri": "https://localhost:8080/"
        },
        "id": "Dv4C7qb3CYDF",
        "outputId": "e90bba3b-c15f-413a-db2c-a0b24e87494d"
      },
      "outputs": [
        {
          "name": "stdout",
          "output_type": "stream",
          "text": [
            "['landrover', 'audi']\n"
          ]
        }
      ],
      "source": [
        "# print all the keys in lowew=r case i fthe value greater than=3000 \n",
        "dict = {'Jeep' : 1000, 'RangeRover' : 100, 'landRover' : 4000,'AUDI' : 5000}\n",
        "l = [i.lower() for i in  dict if dict[i]>=3000 ]\n",
        "print(l)"
      ]
    },
    {
      "cell_type": "code",
      "execution_count": 1,
      "metadata": {
        "colab": {
          "base_uri": "https://localhost:8080/"
        },
        "id": "iHzQG5YiEYVm",
        "outputId": "2ed6ea12-1d21-464e-e4d7-70e1001334f1"
      },
      "outputs": [
        {
          "name": "stdout",
          "output_type": "stream",
          "text": [
            "['odd', 'even', 'odd', 'even', 'odd', 'even', 'odd', 'even', 'odd', 'even', 'odd', 'even', 'odd', 'even', 'odd', 'even', 'odd', 'even', 'odd', 'even', 'odd', 'even', 'odd', 'even', 'odd', 'even', 'odd', 'even', 'odd', 'even', 'odd', 'even', 'odd', 'even', 'odd', 'even', 'odd', 'even', 'odd', 'even', 'odd', 'even', 'odd', 'even', 'odd', 'even', 'odd', 'even', 'odd', 'even', 'odd', 'even', 'odd', 'even', 'odd', 'even', 'odd', 'even', 'odd', 'even', 'odd', 'even', 'odd', 'even', 'odd', 'even', 'odd', 'even', 'odd', 'even', 'odd', 'even', 'odd', 'even', 'odd', 'even', 'odd', 'even', 'odd', 'even', 'odd', 'even', 'odd', 'even', 'odd', 'even', 'odd', 'even', 'odd', 'even', 'odd', 'even', 'odd', 'even', 'odd', 'even', 'odd', 'even', 'odd', 'even']\n"
          ]
        }
      ],
      "source": [
        "# for i in range print even if the number and otherwise print odd\n",
        "\n",
        "list = [ 'even' if i%2==0 else 'odd' for i in range(1,101)]\n",
        "print(list)"
      ]
    }
  ],
  "metadata": {
    "colab": {
      "name": "Untitled1.ipynb",
      "provenance": []
    },
    "kernelspec": {
      "display_name": "Python 3",
      "name": "python3"
    },
    "language_info": {
      "codemirror_mode": {
        "name": "ipython",
        "version": 3
      },
      "file_extension": ".py",
      "mimetype": "text/x-python",
      "name": "python",
      "nbconvert_exporter": "python",
      "pygments_lexer": "ipython3",
      "version": "3.9.7"
    }
  },
  "nbformat": 4,
  "nbformat_minor": 0
}
